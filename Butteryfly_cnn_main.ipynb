{
  "nbformat": 4,
  "nbformat_minor": 0,
  "metadata": {
    "colab": {
      "provenance": [],
      "authorship_tag": "ABX9TyOu8pzFS4oiZVbXvsFfcUbZ",
      "include_colab_link": true
    },
    "kernelspec": {
      "name": "python3",
      "display_name": "Python 3"
    },
    "language_info": {
      "name": "python"
    }
  },
  "cells": [
    {
      "cell_type": "markdown",
      "metadata": {
        "id": "view-in-github",
        "colab_type": "text"
      },
      "source": [
        "<a href=\"https://colab.research.google.com/github/AdityaaRavi/Butterfly-cnn/blob/main/Butteryfly_cnn_main.ipynb\" target=\"_parent\"><img src=\"https://colab.research.google.com/assets/colab-badge.svg\" alt=\"Open In Colab\"/></a>"
      ]
    },
    {
      "cell_type": "markdown",
      "source": [
        "# Downloading the data"
      ],
      "metadata": {
        "id": "qN-ypjJZY2ES"
      }
    },
    {
      "cell_type": "code",
      "source": [
        "!mkdir /content/butterfly-data"
      ],
      "metadata": {
        "id": "mtb01kDUYz7t"
      },
      "execution_count": 1,
      "outputs": []
    },
    {
      "cell_type": "code",
      "source": [
        "# get the kaggle api token\n",
        "!mkdir ~/.kaggle\n",
        "file_id = \"1zSRznA3TypBwqP75WcOuv6X3tbaYDiNJ\"\n",
        "file_download_link = \"https://docs.google.com/uc?export=download&id=\" + file_id\n",
        "!wget -O ~/.kaggle/kaggle.json --no-check-certificate \"$file_download_link\"\n",
        "!chmod 600 ~/.kaggle/kaggle.json\n",
        "!kaggle datasets list"
      ],
      "metadata": {
        "id": "b7ZcKne_gG9v",
        "outputId": "73ba7eb8-fb5e-4505-ac58-88e07a44205b",
        "colab": {
          "base_uri": "https://localhost:8080/"
        }
      },
      "execution_count": 14,
      "outputs": [
        {
          "output_type": "stream",
          "name": "stdout",
          "text": [
            "mkdir: cannot create directory ‘/root/.kaggle’: File exists\n",
            "--2022-11-20 19:30:15--  https://docs.google.com/uc?export=download&id=1zSRznA3TypBwqP75WcOuv6X3tbaYDiNJ\n",
            "Resolving docs.google.com (docs.google.com)... 108.177.13.139, 108.177.13.138, 108.177.13.102, ...\n",
            "Connecting to docs.google.com (docs.google.com)|108.177.13.139|:443... connected.\n",
            "HTTP request sent, awaiting response... 303 See Other\n",
            "Location: https://doc-10-bk-docs.googleusercontent.com/docs/securesc/ha0ro937gcuc7l7deffksulhg5h7mbp1/q79rfjvsifmj9ueiid6heeegf81gptrc/1668972600000/09300047399178709700/*/1zSRznA3TypBwqP75WcOuv6X3tbaYDiNJ?e=download&uuid=79a72b4e-ea87-44b1-a535-d77d2c7b4af7 [following]\n",
            "Warning: wildcards not supported in HTTP.\n",
            "--2022-11-20 19:30:16--  https://doc-10-bk-docs.googleusercontent.com/docs/securesc/ha0ro937gcuc7l7deffksulhg5h7mbp1/q79rfjvsifmj9ueiid6heeegf81gptrc/1668972600000/09300047399178709700/*/1zSRznA3TypBwqP75WcOuv6X3tbaYDiNJ?e=download&uuid=79a72b4e-ea87-44b1-a535-d77d2c7b4af7\n",
            "Resolving doc-10-bk-docs.googleusercontent.com (doc-10-bk-docs.googleusercontent.com)... 172.253.123.132, 2607:f8b0:400c:c16::84\n",
            "Connecting to doc-10-bk-docs.googleusercontent.com (doc-10-bk-docs.googleusercontent.com)|172.253.123.132|:443... connected.\n",
            "HTTP request sent, awaiting response... 200 OK\n",
            "Length: 66 [application/json]\n",
            "Saving to: ‘/root/.kaggle/kaggle.json’\n",
            "\n",
            "/root/.kaggle/kaggl 100%[===================>]      66  --.-KB/s    in 0s      \n",
            "\n",
            "2022-11-20 19:30:16 (3.21 MB/s) - ‘/root/.kaggle/kaggle.json’ saved [66/66]\n",
            "\n",
            "ref                                                             title                                       size  lastUpdated          downloadCount  voteCount  usabilityRating  \n",
            "--------------------------------------------------------------  -----------------------------------------  -----  -------------------  -------------  ---------  ---------------  \n",
            "akshaydattatraykhare/diabetes-dataset                           Diabetes Dataset                             9KB  2022-10-06 08:55:25          15758        463  1.0              \n",
            "akshaydattatraykhare/data-for-admission-in-the-university       Data for Admission in the University         4KB  2022-10-27 11:05:45           3952         90  1.0              \n",
            "swaptr/layoffs-2022                                             Layoffs 2022                                30KB  2022-11-20 18:05:26           1177         39  1.0              \n",
            "aneesayoub/world-universities-ranking-2022                      World Universities Ranking 2022             41KB  2022-11-17 03:47:37           1150         33  0.9117647        \n",
            "whenamancodes/covid-19-coronavirus-pandemic-dataset             COVID -19 Coronavirus Pandemic Dataset      11KB  2022-09-30 04:05:11          11717        365  1.0              \n",
            "thedevastator/240000-household-electricity-consumption-records  Household Electricity Consumption            3MB  2022-10-24 01:22:40           1210         35  1.0              \n",
            "whenamancodes/credit-card-customers-prediction                  Credit Card Customers Prediction           379KB  2022-10-30 13:03:27           2691         60  1.0              \n",
            "thedevastator/latest-licensed-playstation-games-in-japan        PlayStation Games                           53KB  2022-11-09 02:51:20            707         32  0.9411765        \n",
            "hasibalmuzdadid/global-air-pollution-dataset                    Global Air Pollution Dataset               371KB  2022-11-08 14:43:32           2016         56  1.0              \n",
            "whenamancodes/world-happiness-report                            He..He..He... World Happiness Report 2022  120KB  2022-10-26 09:28:48            874         27  1.0              \n",
            "maharshipandya/-spotify-tracks-dataset                          🎹 Spotify Tracks Dataset                     8MB  2022-10-22 14:40:15           3386        100  1.0              \n",
            "whenamancodes/students-performance-in-exams                     Students Performance in Exams                9KB  2022-09-14 15:14:54          19420        349  1.0              \n",
            "whenamancodes/predict-diabities                                 Predict Diabetes                             9KB  2022-11-09 12:18:49           1768         40  1.0              \n",
            "iamsouravbanerjee/game-of-thrones-dataset                       Game of Thrones Dataset                     33KB  2022-11-10 11:41:21            509         35  1.0              \n",
            "jalota/books-dataset                                            Books_dataset                              537KB  2022-11-02 21:02:48           1250         27  1.0              \n",
            "stetsondone/video-game-sales-by-genre                           Video Game Sales by Genre                   12KB  2022-10-31 17:56:01           1318         30  1.0              \n",
            "marta99/elon-musks-tweets-dataset-2022                          Elon Musk's Tweets Dataset 2022            293KB  2022-10-27 19:10:46            767         35  1.0              \n",
            "akshaydattatraykhare/car-details-dataset                        Car Details Dataset                         56KB  2022-10-21 06:11:56           3611         59  1.0              \n",
            "cedricaubin/ai-ml-salaries                                      AI/ML Salaries                              11KB  2022-11-06 11:20:31            722         29  1.0              \n",
            "thedevastator/predicting-job-titles-from-resumes                Predicting Job Titles from Resumes          40KB  2022-11-05 10:23:35            860         29  1.0              \n"
          ]
        }
      ]
    },
    {
      "cell_type": "code",
      "source": [
        "!kaggle datasets download -d gpiosenka/butterfly-images40-species -p /content/butterfly-data/ --unzip"
      ],
      "metadata": {
        "id": "F1KHuM9ib37n",
        "outputId": "223735ee-6697-48d3-faeb-66cf4f6cf732",
        "colab": {
          "base_uri": "https://localhost:8080/"
        }
      },
      "execution_count": 15,
      "outputs": [
        {
          "output_type": "stream",
          "name": "stdout",
          "text": [
            "Downloading butterfly-images40-species.zip to /content/butterfly-data\n",
            " 97% 440M/454M [00:03<00:00, 137MB/s]\n",
            "100% 454M/454M [00:03<00:00, 145MB/s]\n"
          ]
        }
      ]
    }
  ]
}